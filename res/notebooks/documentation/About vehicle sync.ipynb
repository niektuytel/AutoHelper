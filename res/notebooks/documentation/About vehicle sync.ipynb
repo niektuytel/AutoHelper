{
    "metadata": {
        "kernelspec": {
            "name": "SQL",
            "display_name": "SQL",
            "language": "sql"
        },
        "language_info": {
            "name": "sql",
            "version": ""
        }
    },
    "nbformat_minor": 2,
    "nbformat": 4,
    "cells": [
        {
            "cell_type": "markdown",
            "source": [
                "# **Vehicle sync tasks**\r\n",
                "- [SyncVehicleLookup.cs](../../../src/Application/Vehicles/Commands/SyncVehicleLookup/SyncVehicleLookupCommand.cs)\r\n",
                "- [SyncVehicleLookups.cs](../../../src/Application/Vehicles/Commands/SyncVehicleLookups/SyncVehicleLookupsCommand.cs)\r\n",
                "- [SyncVehicleTimeline.cs](../../../src/Application/Vehicles/Commands/SyncVehicleTimeline/SyncVehicleTimelineCommand.cs)\r\n",
                "- [SyncVehicleTimelines.cs](../../../src/Application/Vehicles/Commands/SyncVehicleTimelines/SyncVehicleTimelinesCommand.cs)"
            ],
            "metadata": {
                "azdata_cell_guid": "29e7287b-9397-4938-ba34-b8238cfefa87"
            },
            "attachments": {}
        },
        {
            "cell_type": "markdown",
            "source": [
                "On the Vehicle is an lookup to store the date of ascription and the mot expiry date, when the date of the ascription is changing we know that the owner has changed over time.  \n",
                "And we ware using the vehicle timeline to define all changes there where been made on an vehicle, From any service, inspection or repair service type. This the user will see on there vehicle what the changes are on the vehicle over the history. \n",
                "\n",
                "  \n",
                "\n",
                "This tasks should run once a month to keep all timelines inline with the RDW data and the Autohelper service logs."
            ],
            "metadata": {
                "azdata_cell_guid": "3321fb6b-782f-45c0-9359-66688a338db4"
            },
            "attachments": {}
        },
        {
            "cell_type": "code",
            "source": [
                "SELECT\r\n",
                "  (SELECT COUNT(*) FROM [AutoHelper-Test].[dbo].[VehicleLookups]) AS VehiclesCount,\r\n",
                "  (SELECT COUNT(*) FROM [AutoHelper-Test].[dbo].[VehicleTimelineItems]) AS VehicleTimelineItemsCount,\r\n",
                "  (SELECT AVG(CAST(VehicleCount AS FLOAT)) \r\n",
                "    FROM (SELECT COUNT(*) AS VehicleCount \r\n",
                "          FROM [AutoHelper-Test].[dbo].[VehicleTimelineItems] \r\n",
                "          GROUP BY VehicleLicensePlate) AS SubQuery) AS AverageTimelineItemsPerVehicle\r\n",
                ""
            ],
            "metadata": {
                "azdata_cell_guid": "d12cd3d2-6962-4f93-b0c8-f3bb9b9e2e00",
                "language": "sql",
                "tags": []
            },
            "outputs": [
                {
                    "output_type": "error",
                    "evalue": "Msg 207, Level 16, State 1, Line 11\r\nInvalid column name 'VehicleId'.",
                    "ename": "",
                    "traceback": []
                },
                {
                    "output_type": "display_data",
                    "data": {
                        "text/html": "Total execution time: 00:00:00.009"
                    },
                    "metadata": {}
                }
            ],
            "execution_count": 50
        },
        {
            "cell_type": "markdown",
            "source": [
                "Sample vehicle '87GRN6' will look like"
            ],
            "metadata": {
                "language": "sql",
                "azdata_cell_guid": "cf2d401a-2e8b-41e4-973d-fb0e990a9605"
            },
            "attachments": {}
        },
        {
            "cell_type": "code",
            "source": [
                "SELECT * from [AutoHelper-Test].[dbo].[VehicleTimelineItems] where VehicleLicensePlate='87GRN6' order by [Date] desc"
            ],
            "metadata": {
                "language": "sql",
                "azdata_cell_guid": "cedbf145-28f3-410d-8061-4925e2aa7731"
            },
            "outputs": [
                {
                    "output_type": "display_data",
                    "data": {
                        "text/html": "(7 rows affected)"
                    },
                    "metadata": {}
                },
                {
                    "output_type": "display_data",
                    "data": {
                        "text/html": "Total execution time: 00:00:00.824"
                    },
                    "metadata": {}
                },
                {
                    "output_type": "execute_result",
                    "metadata": {},
                    "execution_count": 48,
                    "data": {
                        "application/vnd.dataresource+json": {
                            "schema": {
                                "fields": [
                                    {
                                        "name": "Id"
                                    },
                                    {
                                        "name": "VehicleLicensePlate"
                                    },
                                    {
                                        "name": "VehicleServiceLogId"
                                    },
                                    {
                                        "name": "Title"
                                    },
                                    {
                                        "name": "Description"
                                    },
                                    {
                                        "name": "Date"
                                    },
                                    {
                                        "name": "Type"
                                    },
                                    {
                                        "name": "Priority"
                                    },
                                    {
                                        "name": "ExtraDataTableJson"
                                    }
                                ]
                            },
                            "data": [
                                {
                                    "Id": "ccea0e2d-5a8d-4958-9d40-0d897655ff36",
                                    "VehicleLicensePlate": "87GRN6",
                                    "VehicleServiceLogId": "NULL",
                                    "Title": "APK goedgekeurd",
                                    "Description": "",
                                    "Date": "2023-05-10 15:38:00.0000000",
                                    "Type": "400",
                                    "Priority": "2",
                                    "ExtraDataTableJson": "[{\"Item1\":\"Verval datum\",\"Item2\":\"10-05-2024\"}]"
                                },
                                {
                                    "Id": "b84dc45a-f59c-4e67-aee6-43373560711b",
                                    "VehicleLicensePlate": "87GRN6",
                                    "VehicleServiceLogId": "NULL",
                                    "Title": "APK afgekeurd",
                                    "Description": "Er waren 4 opmerkingen",
                                    "Date": "2023-05-10 15:38:00.0000000",
                                    "Type": "401",
                                    "Priority": "2",
                                    "ExtraDataTableJson": "[{\"Item1\":\"Uitlaatsysteem niet gasdicht / onveilige afvoer uitlaatgasse\",\"Item2\":\"5.*.11\"},{\"Item1\":\"Band beschadigd (2x)\",\"Item2\":\"5.*.27\"},{\"Item1\":\"Ruitensproeierinstallatie werkt niet\",\"Item2\":\"5.*.43\"}]"
                                },
                                {
                                    "Id": "bff93a8e-7c26-4858-81d9-0a0b795449b2",
                                    "VehicleLicensePlate": "87GRN6",
                                    "VehicleServiceLogId": "NULL",
                                    "Title": "Nieuwe eigenaar",
                                    "Description": "",
                                    "Date": "2023-04-01 00:00:00.0000000",
                                    "Type": "402",
                                    "Priority": "1",
                                    "ExtraDataTableJson": "[]"
                                },
                                {
                                    "Id": "98fa6057-ea67-43fe-8251-397aeead1d45",
                                    "VehicleLicensePlate": "87GRN6",
                                    "VehicleServiceLogId": "NULL",
                                    "Title": "APK afgekeurd",
                                    "Description": "Er waren 4 opmerkingen",
                                    "Date": "2022-04-11 13:46:00.0000000",
                                    "Type": "401",
                                    "Priority": "2",
                                    "ExtraDataTableJson": "[{\"Item1\":\"Bandenspanning niet op juiste waarde (4x)\",\"Item2\":\"5.*.27\"}]"
                                },
                                {
                                    "Id": "ccd0057b-a0b9-4e13-acf2-751ebaa21c27",
                                    "VehicleLicensePlate": "87GRN6",
                                    "VehicleServiceLogId": "NULL",
                                    "Title": "APK goedgekeurd",
                                    "Description": "",
                                    "Date": "2022-04-11 13:46:00.0000000",
                                    "Type": "400",
                                    "Priority": "2",
                                    "ExtraDataTableJson": "[{\"Item1\":\"Verval datum\",\"Item2\":\"04-05-2023\"}]"
                                },
                                {
                                    "Id": "55f4e6f6-bc5d-4dba-90f9-61fded702ef1",
                                    "VehicleLicensePlate": "87GRN6",
                                    "VehicleServiceLogId": "NULL",
                                    "Title": "APK goedgekeurd",
                                    "Description": "",
                                    "Date": "2021-04-02 11:21:00.0000000",
                                    "Type": "400",
                                    "Priority": "2",
                                    "ExtraDataTableJson": "[{\"Item1\":\"Verval datum\",\"Item2\":\"04-05-2022\"}]"
                                },
                                {
                                    "Id": "ac2ef278-c3d5-4875-9170-0b6d98ce56db",
                                    "VehicleLicensePlate": "87GRN6",
                                    "VehicleServiceLogId": "NULL",
                                    "Title": "APK afgekeurd",
                                    "Description": "Er waren 5 opmerkingen",
                                    "Date": "2021-04-02 11:21:00.0000000",
                                    "Type": "401",
                                    "Priority": "2",
                                    "ExtraDataTableJson": "[{\"Item1\":\"Bandenspanning niet op juiste waarde (4x)\",\"Item2\":\"5.*.27\"},{\"Item1\":\"Schijf-, trommelrem loopt niet vrij\",\"Item2\":\"5.*.31\"}]"
                                }
                            ]
                        },
                        "text/html": [
                            "<table>",
                            "<tr><th>Id</th><th>VehicleLicensePlate</th><th>VehicleServiceLogId</th><th>Title</th><th>Description</th><th>Date</th><th>Type</th><th>Priority</th><th>ExtraDataTableJson</th></tr>",
                            "<tr><td>ccea0e2d-5a8d-4958-9d40-0d897655ff36</td><td>87GRN6</td><td>NULL</td><td>APK goedgekeurd</td><td></td><td>2023-05-10 15:38:00.0000000</td><td>400</td><td>2</td><td>[{&quot;Item1&quot;:&quot;Verval datum&quot;,&quot;Item2&quot;:&quot;10-05-2024&quot;}]</td></tr>",
                            "<tr><td>b84dc45a-f59c-4e67-aee6-43373560711b</td><td>87GRN6</td><td>NULL</td><td>APK afgekeurd</td><td>Er waren 4 opmerkingen</td><td>2023-05-10 15:38:00.0000000</td><td>401</td><td>2</td><td>[{&quot;Item1&quot;:&quot;Uitlaatsysteem niet gasdicht / onveilige afvoer uitlaatgasse&quot;,&quot;Item2&quot;:&quot;5.*.11&quot;},{&quot;Item1&quot;:&quot;Band beschadigd (2x)&quot;,&quot;Item2&quot;:&quot;5.*.27&quot;},{&quot;Item1&quot;:&quot;Ruitensproeierinstallatie werkt niet&quot;,&quot;Item2&quot;:&quot;5.*.43&quot;}]</td></tr>",
                            "<tr><td>bff93a8e-7c26-4858-81d9-0a0b795449b2</td><td>87GRN6</td><td>NULL</td><td>Nieuwe eigenaar</td><td></td><td>2023-04-01 00:00:00.0000000</td><td>402</td><td>1</td><td>[]</td></tr>",
                            "<tr><td>98fa6057-ea67-43fe-8251-397aeead1d45</td><td>87GRN6</td><td>NULL</td><td>APK afgekeurd</td><td>Er waren 4 opmerkingen</td><td>2022-04-11 13:46:00.0000000</td><td>401</td><td>2</td><td>[{&quot;Item1&quot;:&quot;Bandenspanning niet op juiste waarde (4x)&quot;,&quot;Item2&quot;:&quot;5.*.27&quot;}]</td></tr>",
                            "<tr><td>ccd0057b-a0b9-4e13-acf2-751ebaa21c27</td><td>87GRN6</td><td>NULL</td><td>APK goedgekeurd</td><td></td><td>2022-04-11 13:46:00.0000000</td><td>400</td><td>2</td><td>[{&quot;Item1&quot;:&quot;Verval datum&quot;,&quot;Item2&quot;:&quot;04-05-2023&quot;}]</td></tr>",
                            "<tr><td>55f4e6f6-bc5d-4dba-90f9-61fded702ef1</td><td>87GRN6</td><td>NULL</td><td>APK goedgekeurd</td><td></td><td>2021-04-02 11:21:00.0000000</td><td>400</td><td>2</td><td>[{&quot;Item1&quot;:&quot;Verval datum&quot;,&quot;Item2&quot;:&quot;04-05-2022&quot;}]</td></tr>",
                            "<tr><td>ac2ef278-c3d5-4875-9170-0b6d98ce56db</td><td>87GRN6</td><td>NULL</td><td>APK afgekeurd</td><td>Er waren 5 opmerkingen</td><td>2021-04-02 11:21:00.0000000</td><td>401</td><td>2</td><td>[{&quot;Item1&quot;:&quot;Bandenspanning niet op juiste waarde (4x)&quot;,&quot;Item2&quot;:&quot;5.*.27&quot;},{&quot;Item1&quot;:&quot;Schijf-, trommelrem loopt niet vrij&quot;,&quot;Item2&quot;:&quot;5.*.31&quot;}]</td></tr>",
                            "</table>"
                        ]
                    }
                }
            ],
            "execution_count": 48
        }
    ]
}