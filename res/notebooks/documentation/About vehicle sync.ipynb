{
    "metadata": {
        "kernelspec": {
            "name": "SQL",
            "display_name": "SQL",
            "language": "sql"
        },
        "language_info": {
            "name": "sql",
            "version": ""
        }
    },
    "nbformat_minor": 2,
    "nbformat": 4,
    "cells": [
        {
            "cell_type": "markdown",
            "source": [
                "# **Vehicle sync tasks**\r\n",
                "- [SyncVehicleLookup.cs](../../../src/Application/Vehicles/Commands/SyncVehicleLookup/SyncVehicleLookupCommand.cs)\r\n",
                "- [SyncVehicleLookups.cs](../../../src/Application/Vehicles/Commands/SyncVehicleLookups/SyncVehicleLookupsCommand.cs)\r\n",
                "- [SyncVehicleTimeline.cs](../../../src/Application/Vehicles/Commands/SyncVehicleTimeline/SyncVehicleTimelineCommand.cs)\r\n",
                "- [SyncVehicleTimelines.cs](../../../src/Application/Vehicles/Commands/SyncVehicleTimelines/SyncVehicleTimelinesCommand.cs)"
            ],
            "metadata": {
                "azdata_cell_guid": "29e7287b-9397-4938-ba34-b8238cfefa87"
            },
            "attachments": {}
        },
        {
            "cell_type": "markdown",
            "source": [
                "On the Vehicle is an lookup to store the date of ascription and the mot expiry date, when the date of the ascription is changing we know that the owner has changed over time.  \n",
                "And we ware using the vehicle timeline to define all changes there where been made on an vehicle, From any service, inspection or repair service type. This the user will see on there vehicle what the changes are on the vehicle over the history. \n",
                "\n",
                "  \n",
                "\n",
                "This tasks should run once a month to keep all timelines inline with the RDW data and the Autohelper service logs."
            ],
            "metadata": {
                "azdata_cell_guid": "3321fb6b-782f-45c0-9359-66688a338db4"
            },
            "attachments": {}
        },
        {
            "cell_type": "code",
            "source": [
                "SELECT\r\n",
                "  (SELECT COUNT(*) FROM [AutoHelper-Test].[dbo].[VehicleLookups]) AS VehicleLookupsCount,\r\n",
                "  (SELECT COUNT(*) FROM [AutoHelper-Test].[dbo].[VehicleTimelineItems]) AS VehicleTimelineItemsCount"
            ],
            "metadata": {
                "azdata_cell_guid": "d12cd3d2-6962-4f93-b0c8-f3bb9b9e2e00",
                "language": "sql",
                "tags": [
                    "hide_input"
                ]
            },
            "outputs": [
                {
                    "output_type": "display_data",
                    "data": {
                        "text/html": "(1 row affected)"
                    },
                    "metadata": {}
                },
                {
                    "output_type": "display_data",
                    "data": {
                        "text/html": "Total execution time: 00:00:01.552"
                    },
                    "metadata": {}
                },
                {
                    "output_type": "execute_result",
                    "metadata": {},
                    "execution_count": 26,
                    "data": {
                        "application/vnd.dataresource+json": {
                            "schema": {
                                "fields": [
                                    {
                                        "name": "VehicleLookupsCount"
                                    },
                                    {
                                        "name": "VehicleTimelineItemsCount"
                                    }
                                ]
                            },
                            "data": [
                                {
                                    "VehicleLookupsCount": "11015491",
                                    "VehicleTimelineItemsCount": "12519736"
                                }
                            ]
                        },
                        "text/html": [
                            "<table>",
                            "<tr><th>VehicleLookupsCount</th><th>VehicleTimelineItemsCount</th></tr>",
                            "<tr><td>11015491</td><td>12519736</td></tr>",
                            "</table>"
                        ]
                    }
                }
            ],
            "execution_count": 26
        },
        {
            "cell_type": "markdown",
            "source": [
                ""
            ],
            "metadata": {
                "language": "sql",
                "azdata_cell_guid": "cf2d401a-2e8b-41e4-973d-fb0e990a9605"
            }
        }
    ]
}