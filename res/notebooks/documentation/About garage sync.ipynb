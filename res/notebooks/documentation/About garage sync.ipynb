{
    "metadata": {
        "kernelspec": {
            "name": "SQL",
            "display_name": "SQL",
            "language": "sql"
        },
        "language_info": {
            "name": "sql",
            "version": ""
        }
    },
    "nbformat_minor": 2,
    "nbformat": 4,
    "cells": [
        {
            "cell_type": "markdown",
            "source": [
                "# **Garage sync tasks**\n",
                "\n",
                "- [SyncGarageLookups.cs](../../../src/Application/Garages/Commands/SyncGarageLookups/SyncGarageLookupsCommand.cs)"
            ],
            "metadata": {
                "azdata_cell_guid": "29e7287b-9397-4938-ba34-b8238cfefa87"
            },
            "attachments": {}
        },
        {
            "cell_type": "markdown",
            "source": [
                "  \n",
                "30/12 run 600 items what costs ... \n",
                "\n",
                "  \n",
                "However this sync cost money on the google api, running the sync on the 29941 companies it costs €129.92 where:  \n",
                "\\- where 4314 companies has services from RDW  \n",
                "\\- where .... companies does NOT have services from RDW  \n",
                "(rest of the 29941 is been ignored)\n",
                "\n",
                "These are the requirements the company need to be included in the database:  \n",
                "\\- Available on RDW as a company that has an valid 'erkenning'  \n",
                "\\- Address need to be found on google places API.  \n",
                "\\- The status has to be 'OPERATIONAL'  \n",
                "\\-"
            ],
            "metadata": {
                "azdata_cell_guid": "977484c5-b5b9-4aa8-a55f-30cfc96ed238"
            },
            "attachments": {}
        },
        {
            "cell_type": "code",
            "source": [
                "select TOP 10 * from [AutoHelper-Test].[dbo].[GarageLookups]"
            ],
            "metadata": {
                "azdata_cell_guid": "b2a4bdc1-8291-44e8-ac88-db07c4888d34",
                "language": "sql"
            },
            "outputs": [
                {
                    "output_type": "display_data",
                    "data": {
                        "text/html": "(10 rows affected)"
                    },
                    "metadata": {}
                },
                {
                    "output_type": "display_data",
                    "data": {
                        "text/html": "Total execution time: 00:00:00.005"
                    },
                    "metadata": {}
                },
                {
                    "output_type": "execute_result",
                    "metadata": {},
                    "execution_count": 26,
                    "data": {
                        "application/vnd.dataresource+json": {
                            "schema": {
                                "fields": [
                                    {
                                        "name": "Identifier"
                                    },
                                    {
                                        "name": "GarageId"
                                    },
                                    {
                                        "name": "Name"
                                    },
                                    {
                                        "name": "Address"
                                    },
                                    {
                                        "name": "City"
                                    },
                                    {
                                        "name": "Location"
                                    },
                                    {
                                        "name": "Image"
                                    },
                                    {
                                        "name": "ImageThumbnail"
                                    },
                                    {
                                        "name": "Status"
                                    },
                                    {
                                        "name": "PhoneNumber"
                                    },
                                    {
                                        "name": "WhatsappNumber"
                                    },
                                    {
                                        "name": "EmailAddress"
                                    },
                                    {
                                        "name": "ConversationContactEmail"
                                    },
                                    {
                                        "name": "ConversationContactWhatsappNumber"
                                    },
                                    {
                                        "name": "DaysOfWeekString"
                                    },
                                    {
                                        "name": "Website"
                                    },
                                    {
                                        "name": "Rating"
                                    },
                                    {
                                        "name": "UserRatingsTotal"
                                    },
                                    {
                                        "name": "Created"
                                    },
                                    {
                                        "name": "CreatedBy"
                                    },
                                    {
                                        "name": "LastModified"
                                    },
                                    {
                                        "name": "LastModifiedBy"
                                    }
                                ]
                            },
                            "data": [
                                {
                                    "Identifier": "1000068",
                                    "GarageId": "NULL",
                                    "Name": "Autocentrum Biermans B.V.",
                                    "Address": "Rijksweg 24",
                                    "City": "Berg En Terblijt",
                                    "Location": "0xE6100000010C000000A0116E494000000000451B1740",
                                    "Image": "a819c19f-18ea-48c0-8150-81c6d1315ec7.jpg",
                                    "ImageThumbnail": "9b9cb2ef-5ce0-4f79-be9a-a4b5529a443d.jpg",
                                    "Status": "OPERATIONAL",
                                    "PhoneNumber": "043 608 8000",
                                    "WhatsappNumber": "NULL",
                                    "EmailAddress": "volvoheerlen@autobiermans.nl",
                                    "ConversationContactEmail": "NULL",
                                    "ConversationContactWhatsappNumber": "NULL",
                                    "DaysOfWeekString": "maandag: 08:15–18:00;dinsdag: 08:15–18:00;woensdag: 08:15–18:00;donderdag: 08:15–18:00;vrijdag: 08:15–18:00;zaterdag: 10:00–17:00;zondag: Gesloten",
                                    "Website": "http://www.autobiermans.nl/",
                                    "Rating": "4.2",
                                    "UserRatingsTotal": "53",
                                    "Created": "2023-12-29 23:38:00.8188154",
                                    "CreatedBy": "System:CreateLookup",
                                    "LastModified": "2023-12-29 23:38:00.8188156",
                                    "LastModifiedBy": "System:CreateLookup"
                                },
                                {
                                    "Identifier": "1000109",
                                    "GarageId": "NULL",
                                    "Name": "AutoFirst - Garage Olympia - Garage in Valkenburg",
                                    "Address": "Nieuweweg 38",
                                    "City": "Valkenburg",
                                    "Location": "0xE6100000010C00000060316F494000000000CA561740",
                                    "Image": "6bbedb60-51c2-40f3-a183-94f787b9fdbe.jpg",
                                    "ImageThumbnail": "85c6ebce-a52e-4087-ac5f-ff3d6dd02d9d.jpg",
                                    "Status": "OPERATIONAL",
                                    "PhoneNumber": "043 609 0388",
                                    "WhatsappNumber": "NULL",
                                    "EmailAddress": "info@garageolympia.nl",
                                    "ConversationContactEmail": "NULL",
                                    "ConversationContactWhatsappNumber": "NULL",
                                    "DaysOfWeekString": "maandag: 08:00–17:00;dinsdag: 08:00–17:00;woensdag: 08:00–17:00;donderdag: 08:00–17:00;vrijdag: 08:00–17:00;zaterdag: Gesloten;zondag: Gesloten",
                                    "Website": "http://www.autofirst-olympia.nl/",
                                    "Rating": "4.5",
                                    "UserRatingsTotal": "76",
                                    "Created": "2023-12-29 16:18:45.6003697",
                                    "CreatedBy": "System:CreateLookup",
                                    "LastModified": "2023-12-29 16:18:45.6003700",
                                    "LastModifiedBy": "System:CreateLookup"
                                },
                                {
                                    "Identifier": "1000994",
                                    "GarageId": "NULL",
                                    "Name": "Autobedrijf G. Nelissen Sint Geertruid B.V.",
                                    "Address": "Burgemeester Wolfsstraat 6",
                                    "City": "Sint Geertruid",
                                    "Location": "0xE6100000010C0000006058664940000000E0B30C1740",
                                    "Image": "50b1dd68-8111-43f3-b941-d9fb923ca983.jpg",
                                    "ImageThumbnail": "cf6cdf32-0f58-42fc-b450-66530c1af65c.jpg",
                                    "Status": "OPERATIONAL",
                                    "PhoneNumber": "043 408 1201",
                                    "WhatsappNumber": "NULL",
                                    "EmailAddress": "info@auto-nelissen.nl",
                                    "ConversationContactEmail": "NULL",
                                    "ConversationContactWhatsappNumber": "NULL",
                                    "DaysOfWeekString": "maandag: 08:00–18:00;dinsdag: 08:00–18:00;woensdag: 08:00–18:00;donderdag: 08:00–18:00;vrijdag: 08:00–18:00;zaterdag: 09:00–17:00;zondag: Gesloten",
                                    "Website": "http://auto-nelissen.nl/",
                                    "Rating": "4.6",
                                    "UserRatingsTotal": "70",
                                    "Created": "2023-12-29 23:38:06.5310036",
                                    "CreatedBy": "System:CreateLookup",
                                    "LastModified": "2023-12-29 23:38:06.5310040",
                                    "LastModifiedBy": "System:CreateLookup"
                                },
                                {
                                    "Identifier": "100207",
                                    "GarageId": "NULL",
                                    "Name": "De Cabriohoeve",
                                    "Address": "Julianalaan 9",
                                    "City": "Gasselte",
                                    "Location": "0xE6100000010C00000080747D4A4000000040B7451B40",
                                    "Image": "a77766d0-330d-471a-b963-b4ab6bdde233.jpg",
                                    "ImageThumbnail": "4cfa858e-afaa-43e4-bd50-58cae404406b.jpg",
                                    "Status": "OPERATIONAL",
                                    "PhoneNumber": "0599 513 713",
                                    "WhatsappNumber": "NULL",
                                    "EmailAddress": "info@decabriohoeve.nl",
                                    "ConversationContactEmail": "NULL",
                                    "ConversationContactWhatsappNumber": "NULL",
                                    "DaysOfWeekString": "maandag: 09:00–18:00;dinsdag: 09:00–18:00;woensdag: 09:00–18:00;donderdag: 09:00–18:00;vrijdag: 09:00–18:00;zaterdag: 09:00–17:00;zondag: Gesloten",
                                    "Website": "http://www.decabriohoeve.nl/",
                                    "Rating": "4.7",
                                    "UserRatingsTotal": "230",
                                    "Created": "2023-12-29 18:48:22.7873777",
                                    "CreatedBy": "System:CreateLookup",
                                    "LastModified": "2023-12-29 18:48:22.7873777",
                                    "LastModifiedBy": "System:CreateLookup"
                                },
                                {
                                    "Identifier": "1002617",
                                    "GarageId": "NULL",
                                    "Name": "Schutte Autosloperij",
                                    "Address": "Kuiperstraat 14",
                                    "City": "Geulle",
                                    "Location": "0xE6100000010C000000203077494000000040DAF61640",
                                    "Image": "87a21688-bee3-493e-a89f-46bb7879fc42.jpg",
                                    "ImageThumbnail": "644a3620-83fb-4c56-8efb-ce998ea7d328.jpg",
                                    "Status": "OPERATIONAL",
                                    "PhoneNumber": "043 364 1441",
                                    "WhatsappNumber": "NULL",
                                    "EmailAddress": "NULL",
                                    "ConversationContactEmail": "NULL",
                                    "ConversationContactWhatsappNumber": "NULL",
                                    "DaysOfWeekString": "maandag: 09:00–12:30, 13:00–17:30;dinsdag: 09:00–12:30, 13:00–17:30;woensdag: 09:00–12:30, 13:00–17:30;donderdag: 09:00–12:30, 13:00–17:30;vrijdag: 09:00–12:30, 13:00–17:30;zaterdag: 09:00–13:00;zondag: Gesloten",
                                    "Website": "http://www.autoschutte.nl/",
                                    "Rating": "3.4",
                                    "UserRatingsTotal": "5",
                                    "Created": "2023-12-29 23:38:13.6397131",
                                    "CreatedBy": "System:CreateLookup",
                                    "LastModified": "2023-12-29 23:38:13.6397134",
                                    "LastModifiedBy": "System:CreateLookup"
                                },
                                {
                                    "Identifier": "100291",
                                    "GarageId": "NULL",
                                    "Name": "Autobedrijf AutoFirst Doornbos Beilen EDGe mobility",
                                    "Address": "De Zuidmaten 6",
                                    "City": "Beilen",
                                    "Location": "0xE6100000010C00000020F86C4A400000002008121A40",
                                    "Image": "59001684-d7d4-4411-a298-acfd1c17982d.jpg",
                                    "ImageThumbnail": "77934485-ec32-4df2-b352-abe6078ec26b.jpg",
                                    "Status": "OPERATIONAL",
                                    "PhoneNumber": "0593 201 588",
                                    "WhatsappNumber": "NULL",
                                    "EmailAddress": "info@autobedrijf-doornbos.nl",
                                    "ConversationContactEmail": "NULL",
                                    "ConversationContactWhatsappNumber": "NULL",
                                    "DaysOfWeekString": "maandag: 08:00–17:30;dinsdag: 08:00–17:30;woensdag: 08:00–17:30;donderdag: 08:00–17:30;vrijdag: 08:00–17:30;zaterdag: Gesloten;zondag: Gesloten",
                                    "Website": "http://www.autofirst-doornbos.nl/",
                                    "Rating": "4.7",
                                    "UserRatingsTotal": "61",
                                    "Created": "2023-12-29 18:48:31.1540971",
                                    "CreatedBy": "System:CreateLookup",
                                    "LastModified": "2023-12-29 18:48:31.1540974",
                                    "LastModifiedBy": "System:CreateLookup"
                                },
                                {
                                    "Identifier": "1003571",
                                    "GarageId": "NULL",
                                    "Name": "Renault Maastricht Janssen Kerres (wordt Hedin Automotive)",
                                    "Address": "Armand Maassenstraat 2",
                                    "City": "Maastricht",
                                    "Location": "0xE6100000010C000000E0516D4940000000C08FE71640",
                                    "Image": "fbf1f02d-e157-4271-bf4d-6632ea437eab.jpg",
                                    "ImageThumbnail": "4b23eb34-d22d-4d99-bc5e-65307acb18dd.jpg",
                                    "Status": "OPERATIONAL",
                                    "PhoneNumber": "043 361 6288",
                                    "WhatsappNumber": "NULL",
                                    "EmailAddress": "NULL",
                                    "ConversationContactEmail": "NULL",
                                    "ConversationContactWhatsappNumber": "NULL",
                                    "DaysOfWeekString": "maandag: 08:00–18:00;dinsdag: 08:00–18:00;woensdag: 08:00–18:00;donderdag: 08:00–18:00;vrijdag: 08:00–18:00;zaterdag: 09:00–17:00;zondag: Gesloten",
                                    "Website": "https://www.janssenkerres.nl/renault/?utm_source=google&utm_medium=organic&utm_content=website&utm_campaign=my_business_maastricht_renault",
                                    "Rating": "4.6",
                                    "UserRatingsTotal": "88",
                                    "Created": "2023-12-29 23:38:25.6824151",
                                    "CreatedBy": "System:CreateLookup",
                                    "LastModified": "2023-12-29 23:38:25.6824153",
                                    "LastModifiedBy": "System:CreateLookup"
                                },
                                {
                                    "Identifier": "1003572",
                                    "GarageId": "NULL",
                                    "Name": "Janssen Kerres Occasions Maastricht",
                                    "Address": "Molensingel 13",
                                    "City": "Maastricht",
                                    "Location": "0xE6100000010C00000060386A4940000000205BDA1640",
                                    "Image": "3f98da4b-b004-4fe5-83a3-7fa8c7b2b660.jpg",
                                    "ImageThumbnail": "73e4ced8-fb08-42ed-ba34-214888b8ca4d.jpg",
                                    "Status": "OPERATIONAL",
                                    "PhoneNumber": "043 363 1413",
                                    "WhatsappNumber": "NULL",
                                    "EmailAddress": "NULL",
                                    "ConversationContactEmail": "NULL",
                                    "ConversationContactWhatsappNumber": "NULL",
                                    "DaysOfWeekString": "maandag: 08:00–18:00;dinsdag: 08:00–18:00;woensdag: 08:00–18:00;donderdag: 08:00–18:00;vrijdag: 08:00–18:00;zaterdag: 09:00–17:00;zondag: Gesloten",
                                    "Website": "https://www.janssenkerres.nl/?utm_source=google&utm_medium=organic&utm_content=website&utm_campaign=my_business_maastricht_occasions",
                                    "Rating": "0",
                                    "UserRatingsTotal": "0",
                                    "Created": "2023-12-29 23:38:36.2138610",
                                    "CreatedBy": "System:CreateLookup",
                                    "LastModified": "2023-12-29 23:38:36.2138615",
                                    "LastModifiedBy": "System:CreateLookup"
                                },
                                {
                                    "Identifier": "1004391",
                                    "GarageId": "NULL",
                                    "Name": "Nic Nijsten Auto",
                                    "Address": "Sportlaan 22",
                                    "City": "Bunde",
                                    "Location": "0xE6100000010C000000E064724940000000C079E91640",
                                    "Image": "338977e8-e297-43ca-a897-39e1bc8f9dc8.jpg",
                                    "ImageThumbnail": "82e27ccb-6550-4ce9-b65c-b0b8ce2fab0b.jpg",
                                    "Status": "OPERATIONAL",
                                    "PhoneNumber": "043 364 1644",
                                    "WhatsappNumber": "06675165968",
                                    "EmailAddress": "info@autonijsten.nl",
                                    "ConversationContactEmail": "NULL",
                                    "ConversationContactWhatsappNumber": "NULL",
                                    "DaysOfWeekString": "maandag: 08:30–18:00;dinsdag: 08:30–18:00;woensdag: 08:30–18:00;donderdag: 08:30–18:00;vrijdag: 08:30–18:00;zaterdag: 10:00–16:00;zondag: Gesloten",
                                    "Website": "https://www.autonijsten.nl/",
                                    "Rating": "4.6",
                                    "UserRatingsTotal": "55",
                                    "Created": "2023-12-29 23:38:44.4572346",
                                    "CreatedBy": "System:CreateLookup",
                                    "LastModified": "2023-12-29 23:38:44.4572348",
                                    "LastModifiedBy": "System:CreateLookup"
                                },
                                {
                                    "Identifier": "1004492",
                                    "GarageId": "NULL",
                                    "Name": "Garage van Hees",
                                    "Address": "Scharnerweg 137",
                                    "City": "Maastricht",
                                    "Location": "0xE6100000010C00000080876C49400000006067D61640",
                                    "Image": "64e8d5f1-5133-402b-938d-8f7f4d923fb7.png",
                                    "ImageThumbnail": "c2eef6bc-297c-4f13-8c26-d1f1631573f8.png",
                                    "Status": "OPERATIONAL",
                                    "PhoneNumber": "043 362 9934",
                                    "WhatsappNumber": "NULL",
                                    "EmailAddress": "info@garagevanhees.nl",
                                    "ConversationContactEmail": "NULL",
                                    "ConversationContactWhatsappNumber": "NULL",
                                    "DaysOfWeekString": "maandag: 08:00–16:30;dinsdag: 08:00–16:30;woensdag: 08:00–16:30;donderdag: 08:00–16:30;vrijdag: 08:00–16:30;zaterdag: Gesloten;zondag: Gesloten",
                                    "Website": "https://garagevanhees.nl/",
                                    "Rating": "4.9",
                                    "UserRatingsTotal": "103",
                                    "Created": "2023-12-29 23:38:52.2273101",
                                    "CreatedBy": "System:CreateLookup",
                                    "LastModified": "2023-12-29 23:38:52.2273103",
                                    "LastModifiedBy": "System:CreateLookup"
                                }
                            ]
                        },
                        "text/html": [
                            "<table>",
                            "<tr><th>Identifier</th><th>GarageId</th><th>Name</th><th>Address</th><th>City</th><th>Location</th><th>Image</th><th>ImageThumbnail</th><th>Status</th><th>PhoneNumber</th><th>WhatsappNumber</th><th>EmailAddress</th><th>ConversationContactEmail</th><th>ConversationContactWhatsappNumber</th><th>DaysOfWeekString</th><th>Website</th><th>Rating</th><th>UserRatingsTotal</th><th>Created</th><th>CreatedBy</th><th>LastModified</th><th>LastModifiedBy</th></tr>",
                            "<tr><td>1000068</td><td>NULL</td><td>Autocentrum Biermans B.V.</td><td>Rijksweg 24</td><td>Berg En Terblijt</td><td>0xE6100000010C000000A0116E494000000000451B1740</td><td>a819c19f-18ea-48c0-8150-81c6d1315ec7.jpg</td><td>9b9cb2ef-5ce0-4f79-be9a-a4b5529a443d.jpg</td><td>OPERATIONAL</td><td>043 608 8000</td><td>NULL</td><td>volvoheerlen@autobiermans.nl</td><td>NULL</td><td>NULL</td><td>maandag: 08:15–18:00;dinsdag: 08:15–18:00;woensdag: 08:15–18:00;donderdag: 08:15–18:00;vrijdag: 08:15–18:00;zaterdag: 10:00–17:00;zondag: Gesloten</td><td>http://www.autobiermans.nl/</td><td>4.2</td><td>53</td><td>2023-12-29 23:38:00.8188154</td><td>System:CreateLookup</td><td>2023-12-29 23:38:00.8188156</td><td>System:CreateLookup</td></tr>",
                            "<tr><td>1000109</td><td>NULL</td><td>AutoFirst - Garage Olympia - Garage in Valkenburg</td><td>Nieuweweg 38</td><td>Valkenburg</td><td>0xE6100000010C00000060316F494000000000CA561740</td><td>6bbedb60-51c2-40f3-a183-94f787b9fdbe.jpg</td><td>85c6ebce-a52e-4087-ac5f-ff3d6dd02d9d.jpg</td><td>OPERATIONAL</td><td>043 609 0388</td><td>NULL</td><td>info@garageolympia.nl</td><td>NULL</td><td>NULL</td><td>maandag: 08:00–17:00;dinsdag: 08:00–17:00;woensdag: 08:00–17:00;donderdag: 08:00–17:00;vrijdag: 08:00–17:00;zaterdag: Gesloten;zondag: Gesloten</td><td>http://www.autofirst-olympia.nl/</td><td>4.5</td><td>76</td><td>2023-12-29 16:18:45.6003697</td><td>System:CreateLookup</td><td>2023-12-29 16:18:45.6003700</td><td>System:CreateLookup</td></tr>",
                            "<tr><td>1000994</td><td>NULL</td><td>Autobedrijf G. Nelissen Sint Geertruid B.V.</td><td>Burgemeester Wolfsstraat 6</td><td>Sint Geertruid</td><td>0xE6100000010C0000006058664940000000E0B30C1740</td><td>50b1dd68-8111-43f3-b941-d9fb923ca983.jpg</td><td>cf6cdf32-0f58-42fc-b450-66530c1af65c.jpg</td><td>OPERATIONAL</td><td>043 408 1201</td><td>NULL</td><td>info@auto-nelissen.nl</td><td>NULL</td><td>NULL</td><td>maandag: 08:00–18:00;dinsdag: 08:00–18:00;woensdag: 08:00–18:00;donderdag: 08:00–18:00;vrijdag: 08:00–18:00;zaterdag: 09:00–17:00;zondag: Gesloten</td><td>http://auto-nelissen.nl/</td><td>4.6</td><td>70</td><td>2023-12-29 23:38:06.5310036</td><td>System:CreateLookup</td><td>2023-12-29 23:38:06.5310040</td><td>System:CreateLookup</td></tr>",
                            "<tr><td>100207</td><td>NULL</td><td>De Cabriohoeve</td><td>Julianalaan 9</td><td>Gasselte</td><td>0xE6100000010C00000080747D4A4000000040B7451B40</td><td>a77766d0-330d-471a-b963-b4ab6bdde233.jpg</td><td>4cfa858e-afaa-43e4-bd50-58cae404406b.jpg</td><td>OPERATIONAL</td><td>0599 513 713</td><td>NULL</td><td>info@decabriohoeve.nl</td><td>NULL</td><td>NULL</td><td>maandag: 09:00–18:00;dinsdag: 09:00–18:00;woensdag: 09:00–18:00;donderdag: 09:00–18:00;vrijdag: 09:00–18:00;zaterdag: 09:00–17:00;zondag: Gesloten</td><td>http://www.decabriohoeve.nl/</td><td>4.7</td><td>230</td><td>2023-12-29 18:48:22.7873777</td><td>System:CreateLookup</td><td>2023-12-29 18:48:22.7873777</td><td>System:CreateLookup</td></tr>",
                            "<tr><td>1002617</td><td>NULL</td><td>Schutte Autosloperij</td><td>Kuiperstraat 14</td><td>Geulle</td><td>0xE6100000010C000000203077494000000040DAF61640</td><td>87a21688-bee3-493e-a89f-46bb7879fc42.jpg</td><td>644a3620-83fb-4c56-8efb-ce998ea7d328.jpg</td><td>OPERATIONAL</td><td>043 364 1441</td><td>NULL</td><td>NULL</td><td>NULL</td><td>NULL</td><td>maandag: 09:00–12:30, 13:00–17:30;dinsdag: 09:00–12:30, 13:00–17:30;woensdag: 09:00–12:30, 13:00–17:30;donderdag: 09:00–12:30, 13:00–17:30;vrijdag: 09:00–12:30, 13:00–17:30;zaterdag: 09:00–13:00;zondag: Gesloten</td><td>http://www.autoschutte.nl/</td><td>3.4</td><td>5</td><td>2023-12-29 23:38:13.6397131</td><td>System:CreateLookup</td><td>2023-12-29 23:38:13.6397134</td><td>System:CreateLookup</td></tr>",
                            "<tr><td>100291</td><td>NULL</td><td>Autobedrijf AutoFirst Doornbos Beilen EDGe mobility</td><td>De Zuidmaten 6</td><td>Beilen</td><td>0xE6100000010C00000020F86C4A400000002008121A40</td><td>59001684-d7d4-4411-a298-acfd1c17982d.jpg</td><td>77934485-ec32-4df2-b352-abe6078ec26b.jpg</td><td>OPERATIONAL</td><td>0593 201 588</td><td>NULL</td><td>info@autobedrijf-doornbos.nl</td><td>NULL</td><td>NULL</td><td>maandag: 08:00–17:30;dinsdag: 08:00–17:30;woensdag: 08:00–17:30;donderdag: 08:00–17:30;vrijdag: 08:00–17:30;zaterdag: Gesloten;zondag: Gesloten</td><td>http://www.autofirst-doornbos.nl/</td><td>4.7</td><td>61</td><td>2023-12-29 18:48:31.1540971</td><td>System:CreateLookup</td><td>2023-12-29 18:48:31.1540974</td><td>System:CreateLookup</td></tr>",
                            "<tr><td>1003571</td><td>NULL</td><td>Renault Maastricht Janssen Kerres (wordt Hedin Automotive)</td><td>Armand Maassenstraat 2</td><td>Maastricht</td><td>0xE6100000010C000000E0516D4940000000C08FE71640</td><td>fbf1f02d-e157-4271-bf4d-6632ea437eab.jpg</td><td>4b23eb34-d22d-4d99-bc5e-65307acb18dd.jpg</td><td>OPERATIONAL</td><td>043 361 6288</td><td>NULL</td><td>NULL</td><td>NULL</td><td>NULL</td><td>maandag: 08:00–18:00;dinsdag: 08:00–18:00;woensdag: 08:00–18:00;donderdag: 08:00–18:00;vrijdag: 08:00–18:00;zaterdag: 09:00–17:00;zondag: Gesloten</td><td>https://www.janssenkerres.nl/renault/?utm_source=google&amp;utm_medium=organic&amp;utm_content=website&amp;utm_campaign=my_business_maastricht_renault</td><td>4.6</td><td>88</td><td>2023-12-29 23:38:25.6824151</td><td>System:CreateLookup</td><td>2023-12-29 23:38:25.6824153</td><td>System:CreateLookup</td></tr>",
                            "<tr><td>1003572</td><td>NULL</td><td>Janssen Kerres Occasions Maastricht</td><td>Molensingel 13</td><td>Maastricht</td><td>0xE6100000010C00000060386A4940000000205BDA1640</td><td>3f98da4b-b004-4fe5-83a3-7fa8c7b2b660.jpg</td><td>73e4ced8-fb08-42ed-ba34-214888b8ca4d.jpg</td><td>OPERATIONAL</td><td>043 363 1413</td><td>NULL</td><td>NULL</td><td>NULL</td><td>NULL</td><td>maandag: 08:00–18:00;dinsdag: 08:00–18:00;woensdag: 08:00–18:00;donderdag: 08:00–18:00;vrijdag: 08:00–18:00;zaterdag: 09:00–17:00;zondag: Gesloten</td><td>https://www.janssenkerres.nl/?utm_source=google&amp;utm_medium=organic&amp;utm_content=website&amp;utm_campaign=my_business_maastricht_occasions</td><td>0</td><td>0</td><td>2023-12-29 23:38:36.2138610</td><td>System:CreateLookup</td><td>2023-12-29 23:38:36.2138615</td><td>System:CreateLookup</td></tr>",
                            "<tr><td>1004391</td><td>NULL</td><td>Nic Nijsten Auto</td><td>Sportlaan 22</td><td>Bunde</td><td>0xE6100000010C000000E064724940000000C079E91640</td><td>338977e8-e297-43ca-a897-39e1bc8f9dc8.jpg</td><td>82e27ccb-6550-4ce9-b65c-b0b8ce2fab0b.jpg</td><td>OPERATIONAL</td><td>043 364 1644</td><td>06675165968</td><td>info@autonijsten.nl</td><td>NULL</td><td>NULL</td><td>maandag: 08:30–18:00;dinsdag: 08:30–18:00;woensdag: 08:30–18:00;donderdag: 08:30–18:00;vrijdag: 08:30–18:00;zaterdag: 10:00–16:00;zondag: Gesloten</td><td>https://www.autonijsten.nl/</td><td>4.6</td><td>55</td><td>2023-12-29 23:38:44.4572346</td><td>System:CreateLookup</td><td>2023-12-29 23:38:44.4572348</td><td>System:CreateLookup</td></tr>",
                            "<tr><td>1004492</td><td>NULL</td><td>Garage van Hees</td><td>Scharnerweg 137</td><td>Maastricht</td><td>0xE6100000010C00000080876C49400000006067D61640</td><td>64e8d5f1-5133-402b-938d-8f7f4d923fb7.png</td><td>c2eef6bc-297c-4f13-8c26-d1f1631573f8.png</td><td>OPERATIONAL</td><td>043 362 9934</td><td>NULL</td><td>info@garagevanhees.nl</td><td>NULL</td><td>NULL</td><td>maandag: 08:00–16:30;dinsdag: 08:00–16:30;woensdag: 08:00–16:30;donderdag: 08:00–16:30;vrijdag: 08:00–16:30;zaterdag: Gesloten;zondag: Gesloten</td><td>https://garagevanhees.nl/</td><td>4.9</td><td>103</td><td>2023-12-29 23:38:52.2273101</td><td>System:CreateLookup</td><td>2023-12-29 23:38:52.2273103</td><td>System:CreateLookup</td></tr>",
                            "</table>"
                        ]
                    }
                }
            ],
            "execution_count": 26
        },
        {
            "cell_type": "markdown",
            "source": [
                "All the information is comming from:  \n",
                "\\- RDW API  \n",
                "\\- Google API"
            ],
            "metadata": {
                "azdata_cell_guid": "3321fb6b-782f-45c0-9359-66688a338db4"
            },
            "attachments": {}
        },
        {
            "cell_type": "code",
            "source": [
                "SELECT\r\n",
                "  (SELECT COUNT(*) FROM [AutoHelper-Test].[dbo].[GarageLookups]) AS GarageCount,\r\n",
                "  (SELECT COUNT(*) FROM [AutoHelper-Test].[dbo].[GarageLookupServices]) AS GarageLookupServiceCount,\r\n",
                "  (SELECT AVG(CAST(GarageCount AS FLOAT)) \r\n",
                "    FROM (SELECT COUNT(*) AS GarageCount \r\n",
                "          FROM [AutoHelper-Test].[dbo].[GarageLookupServices] \r\n",
                "          GROUP BY GarageLookupIdentifier) AS SubQuery) AS AverageServiceItemsPerGarage"
            ],
            "metadata": {
                "azdata_cell_guid": "d12cd3d2-6962-4f93-b0c8-f3bb9b9e2e00",
                "language": "sql",
                "tags": []
            },
            "outputs": [
                {
                    "output_type": "display_data",
                    "data": {
                        "text/html": "(1 row affected)"
                    },
                    "metadata": {}
                },
                {
                    "output_type": "display_data",
                    "data": {
                        "text/html": "Total execution time: 00:00:00.014"
                    },
                    "metadata": {}
                },
                {
                    "output_type": "execute_result",
                    "metadata": {},
                    "execution_count": 24,
                    "data": {
                        "application/vnd.dataresource+json": {
                            "schema": {
                                "fields": [
                                    {
                                        "name": "GarageCount"
                                    },
                                    {
                                        "name": "GarageLookupServiceCount"
                                    },
                                    {
                                        "name": "AverageServiceItemsPerGarage"
                                    }
                                ]
                            },
                            "data": [
                                {
                                    "GarageCount": "4314",
                                    "GarageLookupServiceCount": "13678",
                                    "AverageServiceItemsPerGarage": "3.174286377349733"
                                }
                            ]
                        },
                        "text/html": [
                            "<table>",
                            "<tr><th>GarageCount</th><th>GarageLookupServiceCount</th><th>AverageServiceItemsPerGarage</th></tr>",
                            "<tr><td>4314</td><td>13678</td><td>3.174286377349733</td></tr>",
                            "</table>"
                        ]
                    }
                }
            ],
            "execution_count": 24
        },
        {
            "cell_type": "markdown",
            "source": [
                "Sample garage '1000068' services will look like"
            ],
            "metadata": {
                "language": "sql",
                "azdata_cell_guid": "cf2d401a-2e8b-41e4-973d-fb0e990a9605"
            },
            "attachments": {}
        },
        {
            "cell_type": "code",
            "source": [
                "SELECT * from [AutoHelper-Test].[dbo].[GarageLookupServices] where GarageLookupIdentifier=1000068"
            ],
            "metadata": {
                "language": "sql",
                "azdata_cell_guid": "cedbf145-28f3-410d-8061-4925e2aa7731"
            },
            "outputs": [
                {
                    "output_type": "display_data",
                    "data": {
                        "text/html": "(3 rows affected)"
                    },
                    "metadata": {}
                },
                {
                    "output_type": "display_data",
                    "data": {
                        "text/html": "Total execution time: 00:00:00.009"
                    },
                    "metadata": {}
                },
                {
                    "output_type": "execute_result",
                    "metadata": {},
                    "execution_count": 25,
                    "data": {
                        "application/vnd.dataresource+json": {
                            "schema": {
                                "fields": [
                                    {
                                        "name": "Id"
                                    },
                                    {
                                        "name": "GarageLookupIdentifier"
                                    },
                                    {
                                        "name": "Type"
                                    },
                                    {
                                        "name": "VehicleType"
                                    },
                                    {
                                        "name": "Title"
                                    },
                                    {
                                        "name": "Description"
                                    },
                                    {
                                        "name": "ExpectedNextDateIsRequired"
                                    },
                                    {
                                        "name": "ExpectedNextOdometerReadingIsRequired"
                                    }
                                ]
                            },
                            "data": [
                                {
                                    "Id": "09c759e7-cc2e-45aa-92f6-563c401ad23b",
                                    "GarageLookupIdentifier": "1000068",
                                    "Type": "30",
                                    "VehicleType": "1",
                                    "Title": "APK keuring",
                                    "Description": "Een wettelijk verplichte keuring om de verkeersveiligheid, milieuaspecten en registratie van uw voertuig te controleren en te waarborgen.",
                                    "ExpectedNextDateIsRequired": "1",
                                    "ExpectedNextOdometerReadingIsRequired": "1"
                                },
                                {
                                    "Id": "974888b3-a6d3-453d-b8aa-585be8e3b0cf",
                                    "GarageLookupIdentifier": "1000068",
                                    "Type": "30",
                                    "VehicleType": "6",
                                    "Title": "APK keuring",
                                    "Description": "Een wettelijk verplichte keuring om de verkeersveiligheid, milieuaspecten en registratie van uw voertuig te controleren en te waarborgen.",
                                    "ExpectedNextDateIsRequired": "1",
                                    "ExpectedNextOdometerReadingIsRequired": "1"
                                },
                                {
                                    "Id": "a82db02c-b1e0-40fc-aa2d-d3c2ed415fbc",
                                    "GarageLookupIdentifier": "1000068",
                                    "Type": "30",
                                    "VehicleType": "3",
                                    "Title": "APK keuring",
                                    "Description": "Een wettelijk verplichte keuring om de verkeersveiligheid, milieuaspecten en registratie van uw voertuig te controleren en te waarborgen.",
                                    "ExpectedNextDateIsRequired": "1",
                                    "ExpectedNextOdometerReadingIsRequired": "1"
                                }
                            ]
                        },
                        "text/html": [
                            "<table>",
                            "<tr><th>Id</th><th>GarageLookupIdentifier</th><th>Type</th><th>VehicleType</th><th>Title</th><th>Description</th><th>ExpectedNextDateIsRequired</th><th>ExpectedNextOdometerReadingIsRequired</th></tr>",
                            "<tr><td>09c759e7-cc2e-45aa-92f6-563c401ad23b</td><td>1000068</td><td>30</td><td>1</td><td>APK keuring</td><td>Een wettelijk verplichte keuring om de verkeersveiligheid, milieuaspecten en registratie van uw voertuig te controleren en te waarborgen.</td><td>1</td><td>1</td></tr>",
                            "<tr><td>974888b3-a6d3-453d-b8aa-585be8e3b0cf</td><td>1000068</td><td>30</td><td>6</td><td>APK keuring</td><td>Een wettelijk verplichte keuring om de verkeersveiligheid, milieuaspecten en registratie van uw voertuig te controleren en te waarborgen.</td><td>1</td><td>1</td></tr>",
                            "<tr><td>a82db02c-b1e0-40fc-aa2d-d3c2ed415fbc</td><td>1000068</td><td>30</td><td>3</td><td>APK keuring</td><td>Een wettelijk verplichte keuring om de verkeersveiligheid, milieuaspecten en registratie van uw voertuig te controleren en te waarborgen.</td><td>1</td><td>1</td></tr>",
                            "</table>"
                        ]
                    }
                }
            ],
            "execution_count": 25
        }
    ]
}