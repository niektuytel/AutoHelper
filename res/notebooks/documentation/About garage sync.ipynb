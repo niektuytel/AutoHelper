{
    "metadata": {
        "kernelspec": {
            "name": "SQL",
            "display_name": "SQL",
            "language": "sql"
        },
        "language_info": {
            "name": "sql",
            "version": ""
        }
    },
    "nbformat_minor": 2,
    "nbformat": 4,
    "cells": [
        {
            "cell_type": "markdown",
            "source": [
                "# **Garage sync tasks**\n",
                "\n",
                "- [SyncGarageLookups.cs](../../../src/Application/Garages/Commands/SyncGarageLookups/SyncGarageLookupsCommand.cs)"
            ],
            "metadata": {
                "azdata_cell_guid": "29e7287b-9397-4938-ba34-b8238cfefa87"
            },
            "attachments": {}
        },
        {
            "cell_type": "code",
            "source": [
                "select TOP 10 * from [AutoHelper-Test].[dbo].[GarageLookups]"
            ],
            "metadata": {
                "azdata_cell_guid": "b2a4bdc1-8291-44e8-ac88-db07c4888d34",
                "language": "sql"
            },
            "outputs": [],
            "execution_count": null
        },
        {
            "cell_type": "markdown",
            "source": [
                "On the Garage lookup we store the basic information of an garage that is registered by trhe RDW and has some valid data from google based on the location of the garage RDW is giving us.  \n",
                "When the garage is not OPERATIONAL or do not have and placeId that is been found from the google api we ignore those garages to insert."
            ],
            "metadata": {
                "azdata_cell_guid": "3321fb6b-782f-45c0-9359-66688a338db4"
            },
            "attachments": {}
        },
        {
            "cell_type": "code",
            "source": [
                "SELECT\r\n",
                "  (SELECT COUNT(*) FROM [AutoHelper-Test].[dbo].[GarageLookups]) AS GarageCount,\r\n",
                "  (SELECT COUNT(*) FROM [AutoHelper-Test].[dbo].[GarageLookupServices]) AS GarageLookupServiceCount,\r\n",
                "  (SELECT AVG(CAST(GarageCount AS FLOAT)) \r\n",
                "    FROM (SELECT COUNT(*) AS GarageCount \r\n",
                "          FROM [AutoHelper-Test].[dbo].[GarageLookupServices] \r\n",
                "          GROUP BY GarageLookupIdentifier) AS SubQuery) AS AverageServiceItemsPerGarage"
            ],
            "metadata": {
                "azdata_cell_guid": "d12cd3d2-6962-4f93-b0c8-f3bb9b9e2e00",
                "language": "sql",
                "tags": []
            },
            "outputs": [
                {
                    "output_type": "display_data",
                    "data": {
                        "text/html": "(1 row affected)"
                    },
                    "metadata": {}
                },
                {
                    "output_type": "display_data",
                    "data": {
                        "text/html": "Total execution time: 00:00:00.021"
                    },
                    "metadata": {}
                },
                {
                    "output_type": "execute_result",
                    "metadata": {},
                    "execution_count": 19,
                    "data": {
                        "application/vnd.dataresource+json": {
                            "schema": {
                                "fields": [
                                    {
                                        "name": "GarageCount"
                                    },
                                    {
                                        "name": "GarageLookupServiceCount"
                                    },
                                    {
                                        "name": "AverageServiceItemsPerGarage"
                                    }
                                ]
                            },
                            "data": [
                                {
                                    "GarageCount": "362",
                                    "GarageLookupServiceCount": "1109",
                                    "AverageServiceItemsPerGarage": "3.115168539325843"
                                }
                            ]
                        },
                        "text/html": [
                            "<table>",
                            "<tr><th>GarageCount</th><th>GarageLookupServiceCount</th><th>AverageServiceItemsPerGarage</th></tr>",
                            "<tr><td>362</td><td>1109</td><td>3.115168539325843</td></tr>",
                            "</table>"
                        ]
                    }
                }
            ],
            "execution_count": 19
        },
        {
            "cell_type": "markdown",
            "source": [
                "Sample garage '1000068' services will look like"
            ],
            "metadata": {
                "language": "sql",
                "azdata_cell_guid": "cf2d401a-2e8b-41e4-973d-fb0e990a9605"
            },
            "attachments": {}
        },
        {
            "cell_type": "code",
            "source": [
                "SELECT * from [AutoHelper-Test].[dbo].[GarageLookupServices] where GarageLookupIdentifier=1000068"
            ],
            "metadata": {
                "language": "sql",
                "azdata_cell_guid": "cedbf145-28f3-410d-8061-4925e2aa7731"
            },
            "outputs": [
                {
                    "output_type": "display_data",
                    "data": {
                        "text/html": "(3 rows affected)"
                    },
                    "metadata": {}
                },
                {
                    "output_type": "display_data",
                    "data": {
                        "text/html": "Total execution time: 00:00:00.010"
                    },
                    "metadata": {}
                },
                {
                    "output_type": "execute_result",
                    "metadata": {},
                    "execution_count": 16,
                    "data": {
                        "application/vnd.dataresource+json": {
                            "schema": {
                                "fields": [
                                    {
                                        "name": "Id"
                                    },
                                    {
                                        "name": "GarageLookupIdentifier"
                                    },
                                    {
                                        "name": "Type"
                                    },
                                    {
                                        "name": "VehicleType"
                                    },
                                    {
                                        "name": "Title"
                                    },
                                    {
                                        "name": "Description"
                                    },
                                    {
                                        "name": "ExpectedNextDateIsRequired"
                                    },
                                    {
                                        "name": "ExpectedNextOdometerReadingIsRequired"
                                    }
                                ]
                            },
                            "data": [
                                {
                                    "Id": "3035fbec-82ea-400e-a36a-92643caf4e15",
                                    "GarageLookupIdentifier": "1000068",
                                    "Type": "30",
                                    "VehicleType": "3",
                                    "Title": "APK keuren",
                                    "Description": "Een wettelijk verplichte keuring om de verkeersveiligheid, milieuaspecten en registratie van uw voertuig te controleren en te waarborgen.",
                                    "ExpectedNextDateIsRequired": "1",
                                    "ExpectedNextOdometerReadingIsRequired": "1"
                                },
                                {
                                    "Id": "9693304b-02c4-45f9-9edd-b9e0d7881dcd",
                                    "GarageLookupIdentifier": "1000068",
                                    "Type": "30",
                                    "VehicleType": "6",
                                    "Title": "APK keuren",
                                    "Description": "Een wettelijk verplichte keuring om de verkeersveiligheid, milieuaspecten en registratie van uw voertuig te controleren en te waarborgen.",
                                    "ExpectedNextDateIsRequired": "1",
                                    "ExpectedNextOdometerReadingIsRequired": "1"
                                },
                                {
                                    "Id": "2e06dd4d-220d-457f-938e-fabd05ebb5fd",
                                    "GarageLookupIdentifier": "1000068",
                                    "Type": "30",
                                    "VehicleType": "1",
                                    "Title": "APK keuren",
                                    "Description": "Een wettelijk verplichte keuring om de verkeersveiligheid, milieuaspecten en registratie van uw voertuig te controleren en te waarborgen.",
                                    "ExpectedNextDateIsRequired": "1",
                                    "ExpectedNextOdometerReadingIsRequired": "1"
                                }
                            ]
                        },
                        "text/html": [
                            "<table>",
                            "<tr><th>Id</th><th>GarageLookupIdentifier</th><th>Type</th><th>VehicleType</th><th>Title</th><th>Description</th><th>ExpectedNextDateIsRequired</th><th>ExpectedNextOdometerReadingIsRequired</th></tr>",
                            "<tr><td>3035fbec-82ea-400e-a36a-92643caf4e15</td><td>1000068</td><td>30</td><td>3</td><td>APK keuren</td><td>Een wettelijk verplichte keuring om de verkeersveiligheid, milieuaspecten en registratie van uw voertuig te controleren en te waarborgen.</td><td>1</td><td>1</td></tr>",
                            "<tr><td>9693304b-02c4-45f9-9edd-b9e0d7881dcd</td><td>1000068</td><td>30</td><td>6</td><td>APK keuren</td><td>Een wettelijk verplichte keuring om de verkeersveiligheid, milieuaspecten en registratie van uw voertuig te controleren en te waarborgen.</td><td>1</td><td>1</td></tr>",
                            "<tr><td>2e06dd4d-220d-457f-938e-fabd05ebb5fd</td><td>1000068</td><td>30</td><td>1</td><td>APK keuren</td><td>Een wettelijk verplichte keuring om de verkeersveiligheid, milieuaspecten en registratie van uw voertuig te controleren en te waarborgen.</td><td>1</td><td>1</td></tr>",
                            "</table>"
                        ]
                    }
                }
            ],
            "execution_count": 16
        },
        {
            "cell_type": "markdown",
            "source": [
                "However this sync cost money on the google api, estimate for 1000 garages would cost roughly ... euro for each time we run this sync"
            ],
            "metadata": {
                "language": "sql",
                "azdata_cell_guid": "2db612dc-46ce-4d9b-b5fb-fa611ab0e0ce"
            },
            "attachments": {}
        }
    ]
}