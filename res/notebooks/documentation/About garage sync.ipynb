{
    "metadata": {
        "kernelspec": {
            "name": "SQL",
            "display_name": "SQL",
            "language": "sql"
        },
        "language_info": {
            "name": "sql",
            "version": ""
        }
    },
    "nbformat_minor": 2,
    "nbformat": 4,
    "cells": [
        {
            "cell_type": "markdown",
            "source": [
                "# **Garage sync tasks**\n",
                "\n",
                "- [SyncGarageLookups.cs](../../../src/Application/Garages/Commands/SyncGarageLookups/SyncGarageLookupsCommand.cs)"
            ],
            "metadata": {
                "azdata_cell_guid": "29e7287b-9397-4938-ba34-b8238cfefa87"
            },
            "attachments": {}
        },
        {
            "cell_type": "code",
            "source": [
                "select TOP 10 * from [AutoHelper-Test].[dbo].[GarageLookups]"
            ],
            "metadata": {
                "azdata_cell_guid": "b2a4bdc1-8291-44e8-ac88-db07c4888d34",
                "language": "sql"
            },
            "outputs": [
                {
                    "output_type": "display_data",
                    "data": {
                        "text/html": "(10 rows affected)"
                    },
                    "metadata": {}
                },
                {
                    "output_type": "display_data",
                    "data": {
                        "text/html": "Total execution time: 00:00:00.030"
                    },
                    "metadata": {}
                },
                {
                    "output_type": "execute_result",
                    "metadata": {},
                    "execution_count": 20,
                    "data": {
                        "application/vnd.dataresource+json": {
                            "schema": {
                                "fields": [
                                    {
                                        "name": "Identifier"
                                    },
                                    {
                                        "name": "GarageId"
                                    },
                                    {
                                        "name": "Name"
                                    },
                                    {
                                        "name": "Address"
                                    },
                                    {
                                        "name": "City"
                                    },
                                    {
                                        "name": "Location"
                                    },
                                    {
                                        "name": "Image"
                                    },
                                    {
                                        "name": "ImageThumbnail"
                                    },
                                    {
                                        "name": "Status"
                                    },
                                    {
                                        "name": "PhoneNumber"
                                    },
                                    {
                                        "name": "WhatsappNumber"
                                    },
                                    {
                                        "name": "EmailAddress"
                                    },
                                    {
                                        "name": "ConversationContactEmail"
                                    },
                                    {
                                        "name": "ConversationContactWhatsappNumber"
                                    },
                                    {
                                        "name": "DaysOfWeekString"
                                    },
                                    {
                                        "name": "Website"
                                    },
                                    {
                                        "name": "Rating"
                                    },
                                    {
                                        "name": "UserRatingsTotal"
                                    },
                                    {
                                        "name": "Created"
                                    },
                                    {
                                        "name": "CreatedBy"
                                    },
                                    {
                                        "name": "LastModified"
                                    },
                                    {
                                        "name": "LastModifiedBy"
                                    }
                                ]
                            },
                            "data": [
                                {
                                    "Identifier": "1000068",
                                    "GarageId": "NULL",
                                    "Name": "Autocentrum Biermans B.V.",
                                    "Address": "Rijksweg 24",
                                    "City": "BergEnTerblijt",
                                    "Location": "0xE6100000010C000000A0116E494000000000451B1740",
                                    "Image": "1384e881-c06c-4ef3-a06d-e3300f843198.jpg",
                                    "ImageThumbnail": "af6b1f63-536b-4b46-8d7d-8ecd25215402.jpg",
                                    "Status": "OPERATIONAL",
                                    "PhoneNumber": "043 608 8000",
                                    "WhatsappNumber": "NULL",
                                    "EmailAddress": "volvoheerlen@autobiermans.nl",
                                    "ConversationContactEmail": "NULL",
                                    "ConversationContactWhatsappNumber": "NULL",
                                    "DaysOfWeekString": "maandag: 08:15–18:00;dinsdag: 08:15–18:00;woensdag: 08:15–18:00;donderdag: 08:15–18:00;vrijdag: 08:15–18:00;zaterdag: 10:00–17:00;zondag: Gesloten",
                                    "Website": "http://www.autobiermans.nl/",
                                    "Rating": "4.2",
                                    "UserRatingsTotal": "53",
                                    "Created": "2023-12-29 16:18:38.2072526",
                                    "CreatedBy": "System:CreateLookup",
                                    "LastModified": "2023-12-29 16:18:38.2072529",
                                    "LastModifiedBy": "System:CreateLookup"
                                },
                                {
                                    "Identifier": "1000109",
                                    "GarageId": "NULL",
                                    "Name": "AutoFirst - Garage Olympia - Garage in Valkenburg",
                                    "Address": "Nieuweweg 38",
                                    "City": "Valkenburg",
                                    "Location": "0xE6100000010C00000060316F494000000000CA561740",
                                    "Image": "6bbedb60-51c2-40f3-a183-94f787b9fdbe.jpg",
                                    "ImageThumbnail": "85c6ebce-a52e-4087-ac5f-ff3d6dd02d9d.jpg",
                                    "Status": "OPERATIONAL",
                                    "PhoneNumber": "043 609 0388",
                                    "WhatsappNumber": "NULL",
                                    "EmailAddress": "info@garageolympia.nl",
                                    "ConversationContactEmail": "NULL",
                                    "ConversationContactWhatsappNumber": "NULL",
                                    "DaysOfWeekString": "maandag: 08:00–17:00;dinsdag: 08:00–17:00;woensdag: 08:00–17:00;donderdag: 08:00–17:00;vrijdag: 08:00–17:00;zaterdag: Gesloten;zondag: Gesloten",
                                    "Website": "http://www.autofirst-olympia.nl/",
                                    "Rating": "4.5",
                                    "UserRatingsTotal": "76",
                                    "Created": "2023-12-29 16:18:45.6003697",
                                    "CreatedBy": "System:CreateLookup",
                                    "LastModified": "2023-12-29 16:18:45.6003700",
                                    "LastModifiedBy": "System:CreateLookup"
                                },
                                {
                                    "Identifier": "1024281",
                                    "GarageId": "NULL",
                                    "Name": "Handelsonderneming Vos",
                                    "Address": "Bus 6",
                                    "City": "Wanroij",
                                    "Location": "0xE6100000010C00000020A6D3494000000060804F1740",
                                    "Image": "aa7d5ee6-b553-4d55-aa96-8d314b746d8d.jpg",
                                    "ImageThumbnail": "38abff33-ad35-4a66-879a-2053c431b8c4.jpg",
                                    "Status": "OPERATIONAL",
                                    "PhoneNumber": "0485 451 206",
                                    "WhatsappNumber": "NULL",
                                    "EmailAddress": "info@handelsondernemingvos.nl",
                                    "ConversationContactEmail": "NULL",
                                    "ConversationContactWhatsappNumber": "NULL",
                                    "DaysOfWeekString": "maandag: 08:00–12:30, 13:00–17:30, 18:30–20:00;dinsdag: 08:00–12:30, 13:00–17:30, 18:30–20:00;woensdag: 08:00–12:30, 13:00–17:30, 18:30–20:00;donderdag: 08:00–12:30, 13:00–17:30, 18:30–20:00;vrijdag: 08:00–12:30, 13:00–17:30, 18:30–20:00;zaterdag: 09:00–12:00, 13:00–16:00;zondag: Gesloten",
                                    "Website": "http://www.handelsondernemingvos.nl/",
                                    "Rating": "4.5",
                                    "UserRatingsTotal": "45",
                                    "Created": "2023-12-29 16:19:03.9746041",
                                    "CreatedBy": "System:CreateLookup",
                                    "LastModified": "2023-12-29 16:19:03.9746042",
                                    "LastModifiedBy": "System:CreateLookup"
                                },
                                {
                                    "Identifier": "1024397",
                                    "GarageId": "NULL",
                                    "Name": "Autobedrijf v.d. Hurk",
                                    "Address": "Kampweg 39",
                                    "City": "Loosbroek",
                                    "Location": "0xE6100000010C000000E05AD6494000000040861C1640",
                                    "Image": "487cd177-6e56-4ff3-822a-7539813e3d18.jpg",
                                    "ImageThumbnail": "3fd91fbe-de5f-493a-a55d-1daa9016dc8b.jpg",
                                    "Status": "OPERATIONAL",
                                    "PhoneNumber": "0413 229 400",
                                    "WhatsappNumber": "+31610334572",
                                    "EmailAddress": "info&#64;a&#117;t&#111;&#98;&#101;&#100;&#114;&#105;jfvd&#104;&#117;rk.&#110;l",
                                    "ConversationContactEmail": "NULL",
                                    "ConversationContactWhatsappNumber": "NULL",
                                    "DaysOfWeekString": "maandag: 08:15–17:30, 19:00–20:00;dinsdag: 08:15–17:30, 19:00–20:00;woensdag: 08:15–17:30;donderdag: 08:15–17:30, 19:00–20:00;vrijdag: 08:15–17:30, 19:00–20:00;zaterdag: 10:00–16:00;zondag: Gesloten",
                                    "Website": "http://www.autobedrijfvdhurk.nl/",
                                    "Rating": "4.8",
                                    "UserRatingsTotal": "27",
                                    "Created": "2023-12-29 16:19:13.7982659",
                                    "CreatedBy": "System:CreateLookup",
                                    "LastModified": "2023-12-29 16:19:13.7982661",
                                    "LastModifiedBy": "System:CreateLookup"
                                },
                                {
                                    "Identifier": "1024461",
                                    "GarageId": "NULL",
                                    "Name": "Autobedrijf Kusters BV",
                                    "Address": "Grotestraat 69",
                                    "City": "Vierlingsbeek",
                                    "Location": "0xE6100000010C000000207CCC494000000060EF0C1840",
                                    "Image": "bff6a1b4-9269-49b5-aa55-049a1bab9d5e.jpg",
                                    "ImageThumbnail": "27a69337-dcd3-4f82-9f8a-88cbdf641b02.jpg",
                                    "Status": "OPERATIONAL",
                                    "PhoneNumber": "0478 631 901",
                                    "WhatsappNumber": "NULL",
                                    "EmailAddress": "info@autokusters.nl",
                                    "ConversationContactEmail": "NULL",
                                    "ConversationContactWhatsappNumber": "NULL",
                                    "DaysOfWeekString": "maandag: 08:00–12:30, 13:00–17:30;dinsdag: 08:00–12:30, 13:00–17:30;woensdag: 08:00–12:30, 13:00–17:30;donderdag: 08:00–12:30, 13:00–17:30;vrijdag: 08:00–12:30, 13:00–17:00;zaterdag: 09:00–12:00;zondag: Gesloten",
                                    "Website": "http://www.autokusters.nl/",
                                    "Rating": "4.6",
                                    "UserRatingsTotal": "97",
                                    "Created": "2023-12-29 16:19:20.9745927",
                                    "CreatedBy": "System:CreateLookup",
                                    "LastModified": "2023-12-29 16:19:20.9745931",
                                    "LastModifiedBy": "System:CreateLookup"
                                },
                                {
                                    "Identifier": "1024659",
                                    "GarageId": "NULL",
                                    "Name": "Vakgarage Cup Cuijk",
                                    "Address": "Lange Beijerd 1A",
                                    "City": "Cuijk",
                                    "Location": "0xE6100000010C000000403BDD4940000000E01E7A1740",
                                    "Image": "a08a8557-601f-47c1-9c98-5c3be68c98de.jpg",
                                    "ImageThumbnail": "231b2d35-a3ed-49bb-8c3d-4a6d7dec6887.jpg",
                                    "Status": "OPERATIONAL",
                                    "PhoneNumber": "0485 320 879",
                                    "WhatsappNumber": "NULL",
                                    "EmailAddress": "info@vakgaragecup.nl",
                                    "ConversationContactEmail": "NULL",
                                    "ConversationContactWhatsappNumber": "NULL",
                                    "DaysOfWeekString": "maandag: 08:00–17:45;dinsdag: 08:00–17:45;woensdag: 08:00–17:45;donderdag: 08:00–17:45;vrijdag: 08:00–17:45;zaterdag: 09:00–13:00;zondag: Gesloten",
                                    "Website": "https://www.vakgaragecup.nl/?utm_medium=organic&utm_source=gmb&utm_campaign=website",
                                    "Rating": "4.6",
                                    "UserRatingsTotal": "34",
                                    "Created": "2023-12-29 16:19:27.5384616",
                                    "CreatedBy": "System:CreateLookup",
                                    "LastModified": "2023-12-29 16:19:27.5384620",
                                    "LastModifiedBy": "System:CreateLookup"
                                },
                                {
                                    "Identifier": "1034533",
                                    "GarageId": "NULL",
                                    "Name": "Maurang Transporten B.V.",
                                    "Address": "Nieuwkuikseweg 44",
                                    "City": "Helvoirt",
                                    "Location": "0xE6100000010C0000000096D249400000002034E11440",
                                    "Image": "7fe46634-46ab-4b21-9a5a-bb1a260a8dab.jpg",
                                    "ImageThumbnail": "4c376b45-4167-4cb5-aebf-f8d6086c7575.jpg",
                                    "Status": "OPERATIONAL",
                                    "PhoneNumber": "0411 642 375",
                                    "WhatsappNumber": "NULL",
                                    "EmailAddress": "info@maurang.nl",
                                    "ConversationContactEmail": "NULL",
                                    "ConversationContactWhatsappNumber": "NULL",
                                    "DaysOfWeekString": "maandag: 24 uur geopend;dinsdag: 24 uur geopend;woensdag: 24 uur geopend;donderdag: 24 uur geopend;vrijdag: 24 uur geopend;zaterdag: Gesloten;zondag: Gesloten",
                                    "Website": "http://www.maurang.nl/",
                                    "Rating": "4.5",
                                    "UserRatingsTotal": "19",
                                    "Created": "2023-12-29 16:19:32.9075322",
                                    "CreatedBy": "System:CreateLookup",
                                    "LastModified": "2023-12-29 16:19:32.9075323",
                                    "LastModifiedBy": "System:CreateLookup"
                                },
                                {
                                    "Identifier": "1034666",
                                    "GarageId": "NULL",
                                    "Name": "Autobedrijf H. v.d. Pasch V.O.F.",
                                    "Address": "St.Lambertusweg 85",
                                    "City": "Gemonde",
                                    "Location": "0xE6100000010C000000A023CF4940000000E0396B1540",
                                    "Image": "NULL",
                                    "ImageThumbnail": "NULL",
                                    "Status": "OPERATIONAL",
                                    "PhoneNumber": "073 551 6065",
                                    "WhatsappNumber": "NULL",
                                    "EmailAddress": "NULL",
                                    "ConversationContactEmail": "NULL",
                                    "ConversationContactWhatsappNumber": "NULL",
                                    "DaysOfWeekString": "",
                                    "Website": "http://www.vanderpaschauto.nl/",
                                    "Rating": "4.7",
                                    "UserRatingsTotal": "11",
                                    "Created": "2023-12-29 16:19:39.2644856",
                                    "CreatedBy": "System:CreateLookup",
                                    "LastModified": "2023-12-29 16:19:39.2644859",
                                    "LastModifiedBy": "System:CreateLookup"
                                },
                                {
                                    "Identifier": "1034721",
                                    "GarageId": "NULL",
                                    "Name": "Ploegam B.V.",
                                    "Address": "Vinkelsestraat 70A",
                                    "City": "Vinkel",
                                    "Location": "0xE6100000010C000000E087E04940000000602B381640",
                                    "Image": "6c9c33c6-99bc-46db-9fb8-358a99e63e2b.jpg",
                                    "ImageThumbnail": "4343c0c1-3163-43fa-adc6-3878cd78f72b.jpg",
                                    "Status": "OPERATIONAL",
                                    "PhoneNumber": "0412 455 450",
                                    "WhatsappNumber": "NULL",
                                    "EmailAddress": "info@ploegam.nl",
                                    "ConversationContactEmail": "NULL",
                                    "ConversationContactWhatsappNumber": "NULL",
                                    "DaysOfWeekString": "maandag: 08:00–17:00;dinsdag: 08:00–17:00;woensdag: 08:00–17:00;donderdag: 08:00–17:00;vrijdag: 08:00–17:00;zaterdag: Gesloten;zondag: Gesloten",
                                    "Website": "http://www.ploegam.nl/",
                                    "Rating": "4.4",
                                    "UserRatingsTotal": "30",
                                    "Created": "2023-12-29 16:19:40.9092345",
                                    "CreatedBy": "System:CreateLookup",
                                    "LastModified": "2023-12-29 16:19:40.9092352",
                                    "LastModifiedBy": "System:CreateLookup"
                                },
                                {
                                    "Identifier": "1045481",
                                    "GarageId": "NULL",
                                    "Name": "Autobedrijf Marc Hendriks",
                                    "Address": "De Eek 9",
                                    "City": "Velp",
                                    "Location": "0xE6100000010C000000000FE04940000000C040EC1640",
                                    "Image": "e7603325-afcd-4407-9822-23c7f76b8c67.png",
                                    "ImageThumbnail": "1a70f71d-a1f6-49ff-8aa4-db1612c741a7.png",
                                    "Status": "OPERATIONAL",
                                    "PhoneNumber": "06 51502125",
                                    "WhatsappNumber": "NULL",
                                    "EmailAddress": "NULL",
                                    "ConversationContactEmail": "NULL",
                                    "ConversationContactWhatsappNumber": "NULL",
                                    "DaysOfWeekString": "maandag: 09:30–17:00;dinsdag: 09:30–17:00;woensdag: 09:30–17:00;donderdag: 09:30–17:00;vrijdag: 09:30–17:00;zaterdag: 10:00–16:00;zondag: Gesloten",
                                    "Website": "https://www.marchendriks.nl/",
                                    "Rating": "4.4",
                                    "UserRatingsTotal": "45",
                                    "Created": "2023-12-29 16:19:48.8152661",
                                    "CreatedBy": "System:CreateLookup",
                                    "LastModified": "2023-12-29 16:19:48.8152662",
                                    "LastModifiedBy": "System:CreateLookup"
                                }
                            ]
                        },
                        "text/html": [
                            "<table>",
                            "<tr><th>Identifier</th><th>GarageId</th><th>Name</th><th>Address</th><th>City</th><th>Location</th><th>Image</th><th>ImageThumbnail</th><th>Status</th><th>PhoneNumber</th><th>WhatsappNumber</th><th>EmailAddress</th><th>ConversationContactEmail</th><th>ConversationContactWhatsappNumber</th><th>DaysOfWeekString</th><th>Website</th><th>Rating</th><th>UserRatingsTotal</th><th>Created</th><th>CreatedBy</th><th>LastModified</th><th>LastModifiedBy</th></tr>",
                            "<tr><td>1000068</td><td>NULL</td><td>Autocentrum Biermans B.V.</td><td>Rijksweg 24</td><td>BergEnTerblijt</td><td>0xE6100000010C000000A0116E494000000000451B1740</td><td>1384e881-c06c-4ef3-a06d-e3300f843198.jpg</td><td>af6b1f63-536b-4b46-8d7d-8ecd25215402.jpg</td><td>OPERATIONAL</td><td>043 608 8000</td><td>NULL</td><td>volvoheerlen@autobiermans.nl</td><td>NULL</td><td>NULL</td><td>maandag: 08:15–18:00;dinsdag: 08:15–18:00;woensdag: 08:15–18:00;donderdag: 08:15–18:00;vrijdag: 08:15–18:00;zaterdag: 10:00–17:00;zondag: Gesloten</td><td>http://www.autobiermans.nl/</td><td>4.2</td><td>53</td><td>2023-12-29 16:18:38.2072526</td><td>System:CreateLookup</td><td>2023-12-29 16:18:38.2072529</td><td>System:CreateLookup</td></tr>",
                            "<tr><td>1000109</td><td>NULL</td><td>AutoFirst - Garage Olympia - Garage in Valkenburg</td><td>Nieuweweg 38</td><td>Valkenburg</td><td>0xE6100000010C00000060316F494000000000CA561740</td><td>6bbedb60-51c2-40f3-a183-94f787b9fdbe.jpg</td><td>85c6ebce-a52e-4087-ac5f-ff3d6dd02d9d.jpg</td><td>OPERATIONAL</td><td>043 609 0388</td><td>NULL</td><td>info@garageolympia.nl</td><td>NULL</td><td>NULL</td><td>maandag: 08:00–17:00;dinsdag: 08:00–17:00;woensdag: 08:00–17:00;donderdag: 08:00–17:00;vrijdag: 08:00–17:00;zaterdag: Gesloten;zondag: Gesloten</td><td>http://www.autofirst-olympia.nl/</td><td>4.5</td><td>76</td><td>2023-12-29 16:18:45.6003697</td><td>System:CreateLookup</td><td>2023-12-29 16:18:45.6003700</td><td>System:CreateLookup</td></tr>",
                            "<tr><td>1024281</td><td>NULL</td><td>Handelsonderneming Vos</td><td>Bus 6</td><td>Wanroij</td><td>0xE6100000010C00000020A6D3494000000060804F1740</td><td>aa7d5ee6-b553-4d55-aa96-8d314b746d8d.jpg</td><td>38abff33-ad35-4a66-879a-2053c431b8c4.jpg</td><td>OPERATIONAL</td><td>0485 451 206</td><td>NULL</td><td>info@handelsondernemingvos.nl</td><td>NULL</td><td>NULL</td><td>maandag: 08:00–12:30, 13:00–17:30, 18:30–20:00;dinsdag: 08:00–12:30, 13:00–17:30, 18:30–20:00;woensdag: 08:00–12:30, 13:00–17:30, 18:30–20:00;donderdag: 08:00–12:30, 13:00–17:30, 18:30–20:00;vrijdag: 08:00–12:30, 13:00–17:30, 18:30–20:00;zaterdag: 09:00–12:00, 13:00–16:00;zondag: Gesloten</td><td>http://www.handelsondernemingvos.nl/</td><td>4.5</td><td>45</td><td>2023-12-29 16:19:03.9746041</td><td>System:CreateLookup</td><td>2023-12-29 16:19:03.9746042</td><td>System:CreateLookup</td></tr>",
                            "<tr><td>1024397</td><td>NULL</td><td>Autobedrijf v.d. Hurk</td><td>Kampweg 39</td><td>Loosbroek</td><td>0xE6100000010C000000E05AD6494000000040861C1640</td><td>487cd177-6e56-4ff3-822a-7539813e3d18.jpg</td><td>3fd91fbe-de5f-493a-a55d-1daa9016dc8b.jpg</td><td>OPERATIONAL</td><td>0413 229 400</td><td>+31610334572</td><td>info&amp;#64;a&amp;#117;t&amp;#111;&amp;#98;&amp;#101;&amp;#100;&amp;#114;&amp;#105;jfvd&amp;#104;&amp;#117;rk.&amp;#110;l</td><td>NULL</td><td>NULL</td><td>maandag: 08:15–17:30, 19:00–20:00;dinsdag: 08:15–17:30, 19:00–20:00;woensdag: 08:15–17:30;donderdag: 08:15–17:30, 19:00–20:00;vrijdag: 08:15–17:30, 19:00–20:00;zaterdag: 10:00–16:00;zondag: Gesloten</td><td>http://www.autobedrijfvdhurk.nl/</td><td>4.8</td><td>27</td><td>2023-12-29 16:19:13.7982659</td><td>System:CreateLookup</td><td>2023-12-29 16:19:13.7982661</td><td>System:CreateLookup</td></tr>",
                            "<tr><td>1024461</td><td>NULL</td><td>Autobedrijf Kusters BV</td><td>Grotestraat 69</td><td>Vierlingsbeek</td><td>0xE6100000010C000000207CCC494000000060EF0C1840</td><td>bff6a1b4-9269-49b5-aa55-049a1bab9d5e.jpg</td><td>27a69337-dcd3-4f82-9f8a-88cbdf641b02.jpg</td><td>OPERATIONAL</td><td>0478 631 901</td><td>NULL</td><td>info@autokusters.nl</td><td>NULL</td><td>NULL</td><td>maandag: 08:00–12:30, 13:00–17:30;dinsdag: 08:00–12:30, 13:00–17:30;woensdag: 08:00–12:30, 13:00–17:30;donderdag: 08:00–12:30, 13:00–17:30;vrijdag: 08:00–12:30, 13:00–17:00;zaterdag: 09:00–12:00;zondag: Gesloten</td><td>http://www.autokusters.nl/</td><td>4.6</td><td>97</td><td>2023-12-29 16:19:20.9745927</td><td>System:CreateLookup</td><td>2023-12-29 16:19:20.9745931</td><td>System:CreateLookup</td></tr>",
                            "<tr><td>1024659</td><td>NULL</td><td>Vakgarage Cup Cuijk</td><td>Lange Beijerd 1A</td><td>Cuijk</td><td>0xE6100000010C000000403BDD4940000000E01E7A1740</td><td>a08a8557-601f-47c1-9c98-5c3be68c98de.jpg</td><td>231b2d35-a3ed-49bb-8c3d-4a6d7dec6887.jpg</td><td>OPERATIONAL</td><td>0485 320 879</td><td>NULL</td><td>info@vakgaragecup.nl</td><td>NULL</td><td>NULL</td><td>maandag: 08:00–17:45;dinsdag: 08:00–17:45;woensdag: 08:00–17:45;donderdag: 08:00–17:45;vrijdag: 08:00–17:45;zaterdag: 09:00–13:00;zondag: Gesloten</td><td>https://www.vakgaragecup.nl/?utm_medium=organic&amp;utm_source=gmb&amp;utm_campaign=website</td><td>4.6</td><td>34</td><td>2023-12-29 16:19:27.5384616</td><td>System:CreateLookup</td><td>2023-12-29 16:19:27.5384620</td><td>System:CreateLookup</td></tr>",
                            "<tr><td>1034533</td><td>NULL</td><td>Maurang Transporten B.V.</td><td>Nieuwkuikseweg 44</td><td>Helvoirt</td><td>0xE6100000010C0000000096D249400000002034E11440</td><td>7fe46634-46ab-4b21-9a5a-bb1a260a8dab.jpg</td><td>4c376b45-4167-4cb5-aebf-f8d6086c7575.jpg</td><td>OPERATIONAL</td><td>0411 642 375</td><td>NULL</td><td>info@maurang.nl</td><td>NULL</td><td>NULL</td><td>maandag: 24 uur geopend;dinsdag: 24 uur geopend;woensdag: 24 uur geopend;donderdag: 24 uur geopend;vrijdag: 24 uur geopend;zaterdag: Gesloten;zondag: Gesloten</td><td>http://www.maurang.nl/</td><td>4.5</td><td>19</td><td>2023-12-29 16:19:32.9075322</td><td>System:CreateLookup</td><td>2023-12-29 16:19:32.9075323</td><td>System:CreateLookup</td></tr>",
                            "<tr><td>1034666</td><td>NULL</td><td>Autobedrijf H. v.d. Pasch V.O.F.</td><td>St.Lambertusweg 85</td><td>Gemonde</td><td>0xE6100000010C000000A023CF4940000000E0396B1540</td><td>NULL</td><td>NULL</td><td>OPERATIONAL</td><td>073 551 6065</td><td>NULL</td><td>NULL</td><td>NULL</td><td>NULL</td><td></td><td>http://www.vanderpaschauto.nl/</td><td>4.7</td><td>11</td><td>2023-12-29 16:19:39.2644856</td><td>System:CreateLookup</td><td>2023-12-29 16:19:39.2644859</td><td>System:CreateLookup</td></tr>",
                            "<tr><td>1034721</td><td>NULL</td><td>Ploegam B.V.</td><td>Vinkelsestraat 70A</td><td>Vinkel</td><td>0xE6100000010C000000E087E04940000000602B381640</td><td>6c9c33c6-99bc-46db-9fb8-358a99e63e2b.jpg</td><td>4343c0c1-3163-43fa-adc6-3878cd78f72b.jpg</td><td>OPERATIONAL</td><td>0412 455 450</td><td>NULL</td><td>info@ploegam.nl</td><td>NULL</td><td>NULL</td><td>maandag: 08:00–17:00;dinsdag: 08:00–17:00;woensdag: 08:00–17:00;donderdag: 08:00–17:00;vrijdag: 08:00–17:00;zaterdag: Gesloten;zondag: Gesloten</td><td>http://www.ploegam.nl/</td><td>4.4</td><td>30</td><td>2023-12-29 16:19:40.9092345</td><td>System:CreateLookup</td><td>2023-12-29 16:19:40.9092352</td><td>System:CreateLookup</td></tr>",
                            "<tr><td>1045481</td><td>NULL</td><td>Autobedrijf Marc Hendriks</td><td>De Eek 9</td><td>Velp</td><td>0xE6100000010C000000000FE04940000000C040EC1640</td><td>e7603325-afcd-4407-9822-23c7f76b8c67.png</td><td>1a70f71d-a1f6-49ff-8aa4-db1612c741a7.png</td><td>OPERATIONAL</td><td>06 51502125</td><td>NULL</td><td>NULL</td><td>NULL</td><td>NULL</td><td>maandag: 09:30–17:00;dinsdag: 09:30–17:00;woensdag: 09:30–17:00;donderdag: 09:30–17:00;vrijdag: 09:30–17:00;zaterdag: 10:00–16:00;zondag: Gesloten</td><td>https://www.marchendriks.nl/</td><td>4.4</td><td>45</td><td>2023-12-29 16:19:48.8152661</td><td>System:CreateLookup</td><td>2023-12-29 16:19:48.8152662</td><td>System:CreateLookup</td></tr>",
                            "</table>"
                        ]
                    }
                }
            ],
            "execution_count": 20
        },
        {
            "cell_type": "markdown",
            "source": [
                "On the Garage lookup we store the basic information of an garage that is registered by trhe RDW and has some valid data from google based on the location of the garage RDW is giving us.  \n",
                "When the garage is not OPERATIONAL or do not have and placeId that is been found from the google api we ignore those garages to insert."
            ],
            "metadata": {
                "azdata_cell_guid": "3321fb6b-782f-45c0-9359-66688a338db4"
            },
            "attachments": {}
        },
        {
            "cell_type": "code",
            "source": [
                "SELECT\r\n",
                "  (SELECT COUNT(*) FROM [AutoHelper-Test].[dbo].[GarageLookups]) AS GarageCount,\r\n",
                "  (SELECT COUNT(*) FROM [AutoHelper-Test].[dbo].[GarageLookupServices]) AS GarageLookupServiceCount,\r\n",
                "  (SELECT AVG(CAST(GarageCount AS FLOAT)) \r\n",
                "    FROM (SELECT COUNT(*) AS GarageCount \r\n",
                "          FROM [AutoHelper-Test].[dbo].[GarageLookupServices] \r\n",
                "          GROUP BY GarageLookupIdentifier) AS SubQuery) AS AverageServiceItemsPerGarage"
            ],
            "metadata": {
                "azdata_cell_guid": "d12cd3d2-6962-4f93-b0c8-f3bb9b9e2e00",
                "language": "sql",
                "tags": []
            },
            "outputs": [
                {
                    "output_type": "display_data",
                    "data": {
                        "text/html": "(1 row affected)"
                    },
                    "metadata": {}
                },
                {
                    "output_type": "display_data",
                    "data": {
                        "text/html": "Total execution time: 00:00:00.027"
                    },
                    "metadata": {}
                },
                {
                    "output_type": "execute_result",
                    "metadata": {},
                    "execution_count": 21,
                    "data": {
                        "application/vnd.dataresource+json": {
                            "schema": {
                                "fields": [
                                    {
                                        "name": "GarageCount"
                                    },
                                    {
                                        "name": "GarageLookupServiceCount"
                                    },
                                    {
                                        "name": "AverageServiceItemsPerGarage"
                                    }
                                ]
                            },
                            "data": [
                                {
                                    "GarageCount": "362",
                                    "GarageLookupServiceCount": "1109",
                                    "AverageServiceItemsPerGarage": "3.115168539325843"
                                }
                            ]
                        },
                        "text/html": [
                            "<table>",
                            "<tr><th>GarageCount</th><th>GarageLookupServiceCount</th><th>AverageServiceItemsPerGarage</th></tr>",
                            "<tr><td>362</td><td>1109</td><td>3.115168539325843</td></tr>",
                            "</table>"
                        ]
                    }
                }
            ],
            "execution_count": 21
        },
        {
            "cell_type": "markdown",
            "source": [
                "Sample garage '1000068' services will look like"
            ],
            "metadata": {
                "language": "sql",
                "azdata_cell_guid": "cf2d401a-2e8b-41e4-973d-fb0e990a9605"
            },
            "attachments": {}
        },
        {
            "cell_type": "code",
            "source": [
                "SELECT * from [AutoHelper-Test].[dbo].[GarageLookupServices] where GarageLookupIdentifier=1000068"
            ],
            "metadata": {
                "language": "sql",
                "azdata_cell_guid": "cedbf145-28f3-410d-8061-4925e2aa7731"
            },
            "outputs": [
                {
                    "output_type": "display_data",
                    "data": {
                        "text/html": "(3 rows affected)"
                    },
                    "metadata": {}
                },
                {
                    "output_type": "display_data",
                    "data": {
                        "text/html": "Total execution time: 00:00:00.023"
                    },
                    "metadata": {}
                },
                {
                    "output_type": "execute_result",
                    "metadata": {},
                    "execution_count": 22,
                    "data": {
                        "application/vnd.dataresource+json": {
                            "schema": {
                                "fields": [
                                    {
                                        "name": "Id"
                                    },
                                    {
                                        "name": "GarageLookupIdentifier"
                                    },
                                    {
                                        "name": "Type"
                                    },
                                    {
                                        "name": "VehicleType"
                                    },
                                    {
                                        "name": "Title"
                                    },
                                    {
                                        "name": "Description"
                                    },
                                    {
                                        "name": "ExpectedNextDateIsRequired"
                                    },
                                    {
                                        "name": "ExpectedNextOdometerReadingIsRequired"
                                    }
                                ]
                            },
                            "data": [
                                {
                                    "Id": "3035fbec-82ea-400e-a36a-92643caf4e15",
                                    "GarageLookupIdentifier": "1000068",
                                    "Type": "30",
                                    "VehicleType": "3",
                                    "Title": "APK keuren",
                                    "Description": "Een wettelijk verplichte keuring om de verkeersveiligheid, milieuaspecten en registratie van uw voertuig te controleren en te waarborgen.",
                                    "ExpectedNextDateIsRequired": "1",
                                    "ExpectedNextOdometerReadingIsRequired": "1"
                                },
                                {
                                    "Id": "9693304b-02c4-45f9-9edd-b9e0d7881dcd",
                                    "GarageLookupIdentifier": "1000068",
                                    "Type": "30",
                                    "VehicleType": "6",
                                    "Title": "APK keuren",
                                    "Description": "Een wettelijk verplichte keuring om de verkeersveiligheid, milieuaspecten en registratie van uw voertuig te controleren en te waarborgen.",
                                    "ExpectedNextDateIsRequired": "1",
                                    "ExpectedNextOdometerReadingIsRequired": "1"
                                },
                                {
                                    "Id": "2e06dd4d-220d-457f-938e-fabd05ebb5fd",
                                    "GarageLookupIdentifier": "1000068",
                                    "Type": "30",
                                    "VehicleType": "1",
                                    "Title": "APK keuren",
                                    "Description": "Een wettelijk verplichte keuring om de verkeersveiligheid, milieuaspecten en registratie van uw voertuig te controleren en te waarborgen.",
                                    "ExpectedNextDateIsRequired": "1",
                                    "ExpectedNextOdometerReadingIsRequired": "1"
                                }
                            ]
                        },
                        "text/html": [
                            "<table>",
                            "<tr><th>Id</th><th>GarageLookupIdentifier</th><th>Type</th><th>VehicleType</th><th>Title</th><th>Description</th><th>ExpectedNextDateIsRequired</th><th>ExpectedNextOdometerReadingIsRequired</th></tr>",
                            "<tr><td>3035fbec-82ea-400e-a36a-92643caf4e15</td><td>1000068</td><td>30</td><td>3</td><td>APK keuren</td><td>Een wettelijk verplichte keuring om de verkeersveiligheid, milieuaspecten en registratie van uw voertuig te controleren en te waarborgen.</td><td>1</td><td>1</td></tr>",
                            "<tr><td>9693304b-02c4-45f9-9edd-b9e0d7881dcd</td><td>1000068</td><td>30</td><td>6</td><td>APK keuren</td><td>Een wettelijk verplichte keuring om de verkeersveiligheid, milieuaspecten en registratie van uw voertuig te controleren en te waarborgen.</td><td>1</td><td>1</td></tr>",
                            "<tr><td>2e06dd4d-220d-457f-938e-fabd05ebb5fd</td><td>1000068</td><td>30</td><td>1</td><td>APK keuren</td><td>Een wettelijk verplichte keuring om de verkeersveiligheid, milieuaspecten en registratie van uw voertuig te controleren en te waarborgen.</td><td>1</td><td>1</td></tr>",
                            "</table>"
                        ]
                    }
                }
            ],
            "execution_count": 22
        },
        {
            "cell_type": "markdown",
            "source": [
                "However this sync cost money on the google api, estimate for 1000 garages would cost roughly ... euro for each time we run this sync"
            ],
            "metadata": {
                "language": "sql",
                "azdata_cell_guid": "2db612dc-46ce-4d9b-b5fb-fa611ab0e0ce"
            },
            "attachments": {}
        }
    ]
}